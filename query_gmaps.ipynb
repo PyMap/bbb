{
 "cells": [
  {
   "cell_type": "code",
   "execution_count": null,
   "metadata": {},
   "outputs": [],
   "source": [
    "#load libraries \n",
    "import pandas as pd\n",
    "import numpy as np\n",
    "import geopandas as gpd\n",
    "import osmnx as ox\n",
    "from shapely.geometry import Point,Polygon,LineString\n",
    "\n",
    "import googlemaps\n",
    "from datetime import datetime\n",
    "import time\n",
    "\n",
    "import matplotlib.pyplot as plt\n",
    "%matplotlib inline"
   ]
  },
  {
   "cell_type": "markdown",
   "metadata": {},
   "source": [
    "# City grid"
   ]
  },
  {
   "cell_type": "code",
   "execution_count": null,
   "metadata": {},
   "outputs": [],
   "source": [
    "#build a dict of cities with the polygon as it appears on Nominatim so it can be downloaded from OSM with osmnx\n",
    "#and an administative center \n",
    "cities = {'buenos_aires':{'nominatim_name':'Buenos Aires,Argentina',\n",
    "                    'admin_center':(-34.601078, -58.374465)},\n",
    "           'mexico':{'nominatim_name':{'state':'Ciudad de México', 'country':'México'},\n",
    "                    'admin_center':(19.4326009,-99.1333416)},\n",
    "           'san_pablo':{'nominatim_name':{'city':'San Pablo','state':'San Pablo', 'country':'Brazil'},\n",
    "                       'admin_center':(-23.5506507,-46.6333824)},\n",
    "            'amsterdam':{'nominatim_name':'Ámsterdam, Holanda Septentrional, Países Bajos',\n",
    "                        'admin_center':(52.3727598, 4.8936041)},\n",
    "            'nyc':{'nominatim_name':'New York City, USA',\n",
    "                  'admin_center':(40.712701, -74.006129)}\n",
    "           }"
   ]
  },
  {
   "cell_type": "code",
   "execution_count": null,
   "metadata": {},
   "outputs": [],
   "source": [
    "def get_city_grid(city_name,cell_height = 1000,cell_width = 1000, intersection = True):\n",
    "    '''\n",
    "    This function takes a city name from a the cities dict,\n",
    "    a cell width and height\n",
    "    an wether we want to intersect the cells with the city boudnary\n",
    "    and returns a shapefile with a polygon grid for the city in question\n",
    "    '''\n",
    "    city = ox.gdf_from_place(city_name)\n",
    "    city = city.to_crs(epsg = 3857) \n",
    "    xmin,ymin,xmax,ymax =  city.geometry.item().bounds\n",
    "\n",
    "    rows = int(np.ceil((ymax-ymin) /  cell_height))\n",
    "    columns = int(np.ceil((xmax-xmin) / cell_width))\n",
    "\n",
    "    XleftOrigin = xmin\n",
    "    XrightOrigin = xmin + cell_width\n",
    "    YtopOrigin = ymax\n",
    "    YbottomOrigin = ymax - cell_height\n",
    "    #create empy list for polygons \n",
    "    polygons = []\n",
    "    #first go for every columns\n",
    "    for i in range(columns):\n",
    "        Ytop = YtopOrigin\n",
    "        Ybottom =YbottomOrigin\n",
    "        #within every column, create cells\n",
    "        for j in range(rows):\n",
    "            #create a polygon from heach node of the cell\n",
    "            polygons.append(Polygon([(XleftOrigin, Ytop), (XrightOrigin, Ytop), (XrightOrigin, Ybottom), (XleftOrigin, Ybottom)])) \n",
    "            #update point coordinates\n",
    "            Ytop = Ytop - cell_height\n",
    "            Ybottom = Ybottom - cell_height\n",
    "        XleftOrigin = XleftOrigin + cell_width\n",
    "        XrightOrigin = XrightOrigin + cell_width\n",
    "\n",
    "    #build a geodataframe from polygons\n",
    "    grid = gpd.GeoDataFrame({'geometry':polygons})\n",
    "    grid.crs = {'init':'epsg:3857','no_defs': True}\n",
    "    if intersection:\n",
    "        \n",
    "        grid = gpd.overlay(grid, city, how='intersection')\n",
    "        grid.crs = {'init':'epsg:3857','no_defs': True}\n",
    "         \n",
    "    grid = grid.to_crs(epsg = 4326) \n",
    "    grid = grid.reset_index().reindex(columns=['index','geometry'])\n",
    "    \n",
    "    return grid\n",
    "\n",
    "def query_gmaps(gmaps=gmaps,O, D, mode,depart):\n",
    "    '''\n",
    "    This functions takes \n",
    "    a gmaps instance\n",
    "    coordinates for Origin and Destination \n",
    "    O = (origin.y,origin.x)\n",
    "    D = (destination.y,destination.x)\n",
    "    a mode: bicycling o driving\n",
    "    and a departure time\n",
    "    and returns a google distance matrix api\n",
    "    '''\n",
    "    out = gmaps.distance_matrix(\n",
    "        origins = O,\n",
    "        destinations = D,\n",
    "        language=None, avoid=None,\n",
    "        mode=mode,\n",
    "        units = 'metric',\n",
    "        departure_time = depart,\n",
    "        arrival_time=None, transit_mode=None,\n",
    "        transit_routing_preference=None,\n",
    "        traffic_model=\"best_guess\",\n",
    "        region = None)\n",
    "    return out\n"
   ]
  },
  {
   "cell_type": "code",
   "execution_count": null,
   "metadata": {},
   "outputs": [],
   "source": [
    "city = 'buenos_aires'\n",
    "nominatim_name = cities[city]['nominatim_name']\n",
    "admin_center = cities[city]['admin_center']\n",
    "cell_size = 500"
   ]
  },
  {
   "cell_type": "code",
   "execution_count": null,
   "metadata": {},
   "outputs": [],
   "source": [
    "city_grid = get_city_grid(city_name = nominatim_name,cell_height = cell_size,cell_width = cell_size, intersection = True)"
   ]
  },
  {
   "cell_type": "code",
   "execution_count": null,
   "metadata": {},
   "outputs": [],
   "source": [
    "centroids = city_grid.centroid"
   ]
  },
  {
   "cell_type": "code",
   "execution_count": null,
   "metadata": {},
   "outputs": [],
   "source": [
    "#https://developers.google.com/maps/documentation/distance-matrix/usage-and-billing#distance-matrix-advanced\n",
    "#cost of transaction in USD dollars\n",
    "u_cost_driving = 0.01\n",
    "u_cost_bike = 0.005\n",
    "total_cost = len(centroids)* u_cost_driving + len(centroids)* u_cost_bike\n",
    "print (city,total_cost)"
   ]
  },
  {
   "cell_type": "markdown",
   "metadata": {},
   "source": [
    "# Travel time by mode"
   ]
  },
  {
   "cell_type": "code",
   "execution_count": null,
   "metadata": {},
   "outputs": [],
   "source": [
    "#intert a google distance matrix API here\n",
    "api = 'xxxxx'\n",
    "gmaps = googlemaps.Client(key=api)\n",
    "depart = int(time.mktime(datetime(2019, 4, 17, 9, 0, 0).timetuple()))"
   ]
  },
  {
   "cell_type": "code",
   "execution_count": null,
   "metadata": {},
   "outputs": [],
   "source": [
    "city_grid['bike_query'] = centroids.apply(lambda origin: query_gmaps(O = (origin.y,origin.x), D = admin_center, mode = 'bicycling',depart = depart))"
   ]
  },
  {
   "cell_type": "code",
   "execution_count": null,
   "metadata": {},
   "outputs": [],
   "source": [
    "city_grid['drive_query'] = centroids.apply(lambda origin: query_gmaps(O = (origin.y,origin.x), D = admin_center, mode = 'driving',depart = depart))"
   ]
  },
  {
   "cell_type": "code",
   "execution_count": null,
   "metadata": {},
   "outputs": [],
   "source": [
    "#save in geojson for full preservation of API result\n",
    "city_grid.to_file(city+'_'+str(cell_size)+'.geojson',driver = 'GeoJSON')"
   ]
  },
  {
   "cell_type": "code",
   "execution_count": null,
   "metadata": {},
   "outputs": [],
   "source": [
    "city_grid.to_file(city+'_'+str(cell_size))"
   ]
  },
  {
   "cell_type": "code",
   "execution_count": null,
   "metadata": {},
   "outputs": [],
   "source": []
  }
 ],
 "metadata": {
  "kernelspec": {
   "display_name": "Python 3",
   "language": "python",
   "name": "python3"
  },
  "language_info": {
   "codemirror_mode": {
    "name": "ipython",
    "version": 3
   },
   "file_extension": ".py",
   "mimetype": "text/x-python",
   "name": "python",
   "nbconvert_exporter": "python",
   "pygments_lexer": "ipython3",
   "version": "3.6.7"
  }
 },
 "nbformat": 4,
 "nbformat_minor": 2
}
